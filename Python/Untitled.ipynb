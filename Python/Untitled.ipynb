{
 "cells": [
  {
   "cell_type": "code",
   "execution_count": 1,
   "id": "b1577d23",
   "metadata": {},
   "outputs": [
    {
     "name": "stdout",
     "output_type": "stream",
     "text": [
      "8\n"
     ]
    }
   ],
   "source": [
    "# Question: Given a list of numbers, write a Python function to find the second highest number.\n",
    "\n",
    "def second_highest(numbers):\n",
    "    numbers = list(set(numbers))\n",
    "    numbers.sort()\n",
    "    return numbers[-2]\n",
    "\n",
    "numbers = [1,4,4,3,8,9]\n",
    "print(second_highest(numbers))"
   ]
  },
  {
   "cell_type": "code",
   "execution_count": 5,
   "id": "2c9c0852",
   "metadata": {},
   "outputs": [
    {
     "name": "stdout",
     "output_type": "stream",
     "text": [
      "enter the number5\n",
      "<class 'int'>\n",
      "120\n"
     ]
    }
   ],
   "source": [
    "# . Question: Write a function to compute the factorial of a number using recursion.\n",
    "def factorial(n):\n",
    "    if n == 0:\n",
    "        return 1\n",
    "    return n * factorial(n-1)\n",
    "\n",
    "number= int(input(\"enter the number\"))\n",
    "\n",
    "print(type(number))\n",
    "print(factorial(number))"
   ]
  },
  {
   "cell_type": "code",
   "execution_count": 12,
   "id": "28f3ad60",
   "metadata": {},
   "outputs": [
    {
     "name": "stdout",
     "output_type": "stream",
     "text": [
      "enter the string malayalam\n",
      "('malayalam', 'is a palindrome')\n"
     ]
    }
   ],
   "source": [
    "# You are given a list of strings. Write a function to filter out all strings that are palindromes.\n",
    "def filter_palindrome(s):\n",
    "    \n",
    "    if s == s[::-1]:\n",
    "        return(s, \"is a palindrome\")\n",
    "    else :\n",
    "        return(s, \"is not a palindrome\")\n",
    "string = str(input(\"enter the string \"))\n",
    "print(filter_palindrome(string))"
   ]
  },
  {
   "cell_type": "code",
   "execution_count": 14,
   "id": "96665b0d",
   "metadata": {},
   "outputs": [
    {
     "name": "stdout",
     "output_type": "stream",
     "text": [
      "enter the string madam\n",
      "('madam', 'is a palindrome')\n"
     ]
    }
   ],
   "source": [
    "def filter_palindrome(s):\n",
    "    \n",
    "    if s == s[::-1]:\n",
    "        return(s, \"is a palindrome\")\n",
    "    else :\n",
    "        return(s, \"is not a palindrome\")\n",
    "string = str(input(\"enter the string \"))\n",
    "print(filter_palindrome(string))"
   ]
  },
  {
   "cell_type": "code",
   "execution_count": 26,
   "id": "b369fb1b",
   "metadata": {},
   "outputs": [
    {
     "name": "stdout",
     "output_type": "stream",
     "text": [
      "Orginal list of strings:\n",
      "['php', 'w3r', 'Python', 'abcd', 'Java', 'aaa']\n",
      "\n",
      "List of palindromes:\n",
      "['php', 'aaa']\n"
     ]
    }
   ],
   "source": [
    "texts = [\"php\", \"w3r\", \"Python\", \"abcd\", \"Java\", \"aaa\"]\n",
    "print(\"Orginal list of strings:\")\n",
    "print(texts) \n",
    "result = list(filter(lambda x: (x == \"\".join(reversed(x))), texts)) \n",
    "print(\"\\nList of palindromes:\")\n",
    "print(result) "
   ]
  },
  {
   "cell_type": "code",
   "execution_count": 21,
   "id": "c52b31a0",
   "metadata": {},
   "outputs": [
    {
     "name": "stdout",
     "output_type": "stream",
     "text": [
      "['php', 'Javaj', 'madam']\n"
     ]
    }
   ],
   "source": [
    " def is_palindrome(s):\n",
    "        s = ''.join(i for i in s if i.isalnum())\n",
    "        return s.lower() == s.lower()[::-1]\n",
    "    \n",
    "def filter_palindrome(strings):\n",
    "    return [s for s in strings if is_palindrome(s)]\n",
    "\n",
    "words = [\"php\", \"w3r\", \"Python\", \"abcd\", \"Javaj\", \"madam\"]\n",
    "print(filter_palindrome(words))"
   ]
  },
  {
   "cell_type": "code",
   "execution_count": 27,
   "id": "3b966f35",
   "metadata": {},
   "outputs": [
    {
     "name": "stdout",
     "output_type": "stream",
     "text": [
      "Orginal list of strings:\n"
     ]
    },
    {
     "ename": "AttributeError",
     "evalue": "'set' object has no attribute 'lower'",
     "output_type": "error",
     "traceback": [
      "\u001b[1;31m---------------------------------------------------------------------------\u001b[0m",
      "\u001b[1;31mAttributeError\u001b[0m                            Traceback (most recent call last)",
      "Cell \u001b[1;32mIn[27], line 3\u001b[0m\n\u001b[0;32m      1\u001b[0m texts \u001b[38;5;241m=\u001b[39m [\u001b[38;5;124m\"\u001b[39m\u001b[38;5;124mphp\u001b[39m\u001b[38;5;124m\"\u001b[39m, \u001b[38;5;124m\"\u001b[39m\u001b[38;5;124mw3r\u001b[39m\u001b[38;5;124m\"\u001b[39m, \u001b[38;5;124m\"\u001b[39m\u001b[38;5;124mPython\u001b[39m\u001b[38;5;124m\"\u001b[39m, \u001b[38;5;124m\"\u001b[39m\u001b[38;5;124mabcd\u001b[39m\u001b[38;5;124m\"\u001b[39m, \u001b[38;5;124m\"\u001b[39m\u001b[38;5;124mJava\u001b[39m\u001b[38;5;124m\"\u001b[39m, \u001b[38;5;124m\"\u001b[39m\u001b[38;5;124maaa\u001b[39m\u001b[38;5;124m\"\u001b[39m]\n\u001b[0;32m      2\u001b[0m \u001b[38;5;28mprint\u001b[39m(\u001b[38;5;124m\"\u001b[39m\u001b[38;5;124mOrginal list of strings:\u001b[39m\u001b[38;5;124m\"\u001b[39m)\n\u001b[1;32m----> 3\u001b[0m texts1 \u001b[38;5;241m=\u001b[39m \u001b[38;5;28mlist\u001b[39m(\u001b[38;5;28;43mset\u001b[39;49m\u001b[43m(\u001b[49m\u001b[43mtexts\u001b[49m\u001b[43m)\u001b[49m\u001b[38;5;241;43m.\u001b[39;49m\u001b[43mlower\u001b[49m())\n\u001b[0;32m      4\u001b[0m \u001b[38;5;28mprint\u001b[39m(texts1) \n\u001b[0;32m      5\u001b[0m result \u001b[38;5;241m=\u001b[39m \u001b[38;5;28mlist\u001b[39m(\u001b[38;5;28mfilter\u001b[39m(\u001b[38;5;28;01mlambda\u001b[39;00m x: (x \u001b[38;5;241m==\u001b[39m \u001b[38;5;124m\"\u001b[39m\u001b[38;5;124m\"\u001b[39m\u001b[38;5;241m.\u001b[39mjoin(\u001b[38;5;28mreversed\u001b[39m(x))), texts1)) \n",
      "\u001b[1;31mAttributeError\u001b[0m: 'set' object has no attribute 'lower'"
     ]
    }
   ],
   "source": [
    "texts = [\"php\", \"w3r\", \"Python\", \"abcd\", \"Java\", \"aaa\"]\n",
    "print(\"Orginal list of strings:\")\n",
    "texts1 = list(set(texts).lower())\n",
    "print(texts1) \n",
    "result = list(filter(lambda x: (x == \"\".join(reversed(x))), texts1)) \n",
    "print(\"\\nList of palindromes:\")\n",
    "print(result) "
   ]
  },
  {
   "cell_type": "code",
   "execution_count": 29,
   "id": "55ced2e3",
   "metadata": {},
   "outputs": [
    {
     "name": "stdout",
     "output_type": "stream",
     "text": [
      "True\n"
     ]
    }
   ],
   "source": [
    "# Given a string, write a function to check if it is an anagram of another string.\n",
    "def is_anagram(s1,s2):\n",
    "    return sorted(s1)==sorted(s2)\n",
    "\n",
    "str1 = \"silent\"\n",
    "str2 = \"listen\"\n",
    "print(is_anagram(str1,str2))"
   ]
  },
  {
   "cell_type": "code",
   "execution_count": 32,
   "id": "8ca6106c",
   "metadata": {},
   "outputs": [
    {
     "name": "stdout",
     "output_type": "stream",
     "text": [
      "[1, 2, 3, 4, 5, 6]\n"
     ]
    }
   ],
   "source": [
    "# Question: Write a function to flatten a nested list.\n",
    "def flatten_list(lst):\n",
    "    result = []\n",
    "    for i in lst:\n",
    "        if isinstance(i, list):\n",
    "            result.extend(flatten_list(i))\n",
    "        else:\n",
    "            result.append(i)\n",
    "    return result\n",
    "\n",
    "nested_list = [1, [2, 3, [4, 5]], 6]\n",
    "print(flatten_list(nested_list))"
   ]
  },
  {
   "cell_type": "code",
   "execution_count": 40,
   "id": "3e9bb22c",
   "metadata": {},
   "outputs": [
    {
     "name": "stdout",
     "output_type": "stream",
     "text": [
      "[8, 4, 5]\n"
     ]
    }
   ],
   "source": [
    "# Given two lists, write a function that returns the elements that are common to both lists.\n",
    "def common_elements(list1,list2):\n",
    "    return list(set(list1) & set(list2))\n",
    "\n",
    "list1 = [1, 2, 3, 4, 5,8]\n",
    "list2 = [4, 5, 6, 7, 8]\n",
    "print(common_elements(list1, list2))"
   ]
  },
  {
   "cell_type": "code",
   "execution_count": 35,
   "id": "78c83278",
   "metadata": {},
   "outputs": [
    {
     "name": "stdout",
     "output_type": "stream",
     "text": [
      "6\n"
     ]
    }
   ],
   "source": [
    "# Write a function that returns the number of words in a string.\n",
    "\n",
    "def word_count(s):\n",
    "    return len(s.split())\n",
    "sentence = 'chant hare krishna and be happy'\n",
    "print(word_count(sentence))"
   ]
  },
  {
   "cell_type": "code",
   "execution_count": 45,
   "id": "aaad160f",
   "metadata": {},
   "outputs": [
    {
     "name": "stdout",
     "output_type": "stream",
     "text": [
      "enter the string  hare krishna\n",
      "max count of character in string h\n"
     ]
    }
   ],
   "source": [
    "#  Question: Write a function that finds the most repeated character in a string.\n",
    "\n",
    "string = input(\"enter the string  \")\n",
    "string = ''.join(string.split())\n",
    "\n",
    "counter = {}\n",
    "for letter in string:\n",
    "    if letter in counter:\n",
    "        counter[letter] += 1\n",
    "        \n",
    "    else:\n",
    "        counter[letter] = 1\n",
    "        \n",
    "max_count = max(counter, key = counter.get)\n",
    "print('most repeated character in string', max_count)"
   ]
  },
  {
   "cell_type": "code",
   "execution_count": 46,
   "id": "de0e5b59",
   "metadata": {},
   "outputs": [
    {
     "name": "stdout",
     "output_type": "stream",
     "text": [
      "[0, 1]\n"
     ]
    }
   ],
   "source": [
    "# Write a function to find the two numbers in a list that sum up to a specific target.\n",
    "\n",
    "def two_sum(nums,target):\n",
    "    num_dic = {}\n",
    "    for i,num in enumerate(nums):\n",
    "        result = target - num\n",
    "        if result in num_dic:\n",
    "            return [num_dic[result],i]\n",
    "        num_dic[num] = i\n",
    "        \n",
    "numbers = [2, 7, 11, 15]\n",
    "target_value = 9\n",
    "print(two_sum(numbers, target_value))"
   ]
  },
  {
   "cell_type": "code",
   "execution_count": 47,
   "id": "e1bbddd0",
   "metadata": {},
   "outputs": [
    {
     "name": "stdout",
     "output_type": "stream",
     "text": [
      "(0, 1)\n"
     ]
    }
   ],
   "source": [
    "def two_sum(nums,target):\n",
    "    num_dic = {}\n",
    "    for i,num in enumerate(nums):\n",
    "        if(target - num in num_dic ):\n",
    "            return num_dic[target - num],i\n",
    "        num_dic[num]=i\n",
    "\n",
    "numbers = [2, 7, 11, 15]\n",
    "target_value = 9\n",
    "print(two_sum(numbers, target_value))"
   ]
  },
  {
   "cell_type": "code",
   "execution_count": 55,
   "id": "c65040eb",
   "metadata": {},
   "outputs": [
    {
     "name": "stdout",
     "output_type": "stream",
     "text": [
      "True\n"
     ]
    }
   ],
   "source": [
    "#  Question: Write a function that checks if a given string is a valid IPv4 address.\n",
    "\n",
    "def Vaild_ip(ip):\n",
    "    parts = ip.split(\".\")\n",
    "    if len(parts) != 4:\n",
    "        return False\n",
    "    for item in parts:\n",
    "        if not item.isdigit():\n",
    "            return False\n",
    "        num = int(item)\n",
    "        if num < 0 and num > 255:\n",
    "            return False\n",
    "    return True\n",
    "        \n",
    "\n",
    "ip_address = \"192.168.1.1\"\n",
    "print(Vaild_ip(ip_address))"
   ]
  },
  {
   "cell_type": "code",
   "execution_count": 56,
   "id": "bec65e93",
   "metadata": {},
   "outputs": [
    {
     "name": "stdout",
     "output_type": "stream",
     "text": [
      "{'mean': 6, 'median': 6.5, 'mode': 7}\n"
     ]
    }
   ],
   "source": [
    "# Question: Given a list of numbers, write a function to compute the mean, median, and mode\n",
    "\n",
    "from statistics import mean,median,mode\n",
    "\n",
    "def compute_statistics(num):\n",
    "    return {\n",
    "        \"mean\" : mean(num),\n",
    "        \"median\" : median(num),\n",
    "        \"mode\" : mode(num)\n",
    "    }\n",
    "    \n",
    "number = [2,4,5,6,7,7,8,9]\n",
    "print(compute_statistics(number))"
   ]
  },
  {
   "cell_type": "code",
   "execution_count": 57,
   "id": "a0fe21bf",
   "metadata": {},
   "outputs": [
    {
     "name": "stdout",
     "output_type": "stream",
     "text": [
      "enter the number10\n",
      "0 1 1 2 3 5 8 13 21 34 None\n"
     ]
    }
   ],
   "source": [
    "# Write a function to compute the Fibonacci series up to n.\n",
    "\n",
    "def Fibonacci(num):\n",
    "    n1,n2 = 0,1\n",
    "    sum =0\n",
    "    \n",
    "    for i in range(0,num):\n",
    "        print(sum, end= \" \")\n",
    "        n1 =n2\n",
    "        n2=sum\n",
    "        sum =n1+n2\n",
    "number = int(input(\"enter the number\"))\n",
    "print(Fibonacci(number))\n",
    "\n"
   ]
  },
  {
   "cell_type": "code",
   "execution_count": 61,
   "id": "dc7c4ce9",
   "metadata": {},
   "outputs": [
    {
     "name": "stdout",
     "output_type": "stream",
     "text": [
      "d\n"
     ]
    }
   ],
   "source": [
    "# Given a string, write a function that returns the first non-repeated character\n",
    "\n",
    "def nonrepeating(string):\n",
    "    freq = {}\n",
    "    \n",
    "    for i in string:\n",
    "        freq[i]=freq.get(i,0) + 1\n",
    "        \n",
    "    for x in string:\n",
    "        if freq[x] == 1:\n",
    "            return x\n",
    "        \n",
    "    return -1\n",
    "\n",
    "string = \"abcdabcef\"\n",
    "print(nonrepeating(string))\n",
    "        "
   ]
  },
  {
   "cell_type": "code",
   "execution_count": 64,
   "id": "13b682d1",
   "metadata": {},
   "outputs": [
    {
     "name": "stdout",
     "output_type": "stream",
     "text": [
      "True\n"
     ]
    }
   ],
   "source": [
    "# Write a function to check if two strings are a rotation of each other (e.g., \"abcde\" and \"cdeab\" are rotations of each other).\n",
    "\n",
    "def are_rotation(str1,str2):\n",
    "    if len(str1) != len(str2):\n",
    "        return False\n",
    "    return str1 in str2 + str2\n",
    "    \n",
    "str1 = \"abcde\"\n",
    "str2 = \"cdeab\"\n",
    "print(are_rotation(str1,str2))"
   ]
  },
  {
   "cell_type": "code",
   "execution_count": 68,
   "id": "b86a7b4e",
   "metadata": {},
   "outputs": [
    {
     "name": "stdout",
     "output_type": "stream",
     "text": [
      "True\n"
     ]
    }
   ],
   "source": [
    "# Write a function to determine if a string has all unique characters \n",
    "\n",
    "def all_unique(string):\n",
    "    return len(string) == len(set(string))\n",
    "\n",
    "string =\"helo\"\n",
    "print(all_unique(string))\n",
    "    "
   ]
  },
  {
   "cell_type": "code",
   "execution_count": 70,
   "id": "d06166b1",
   "metadata": {},
   "outputs": [
    {
     "name": "stdout",
     "output_type": "stream",
     "text": [
      "[1, 2, 3, 4, 5, 6, 6, 0, 0, 0]\n"
     ]
    }
   ],
   "source": [
    "# Given a list of integers, write a function to move all zeros to the end of the list while maintaining the order of the other elements.\n",
    "\n",
    "def move_allzero(nums):\n",
    "    zero_count = nums.count(0)\n",
    "    nums = [num for num in nums if num != 0]\n",
    "    nums.extend([0] * zero_count)\n",
    "    return nums\n",
    "    \n",
    "number = [1,2,3,0,4,0,5,6,0,6]\n",
    "print(move_allzero(number))"
   ]
  },
  {
   "cell_type": "code",
   "execution_count": 73,
   "id": "df882e07",
   "metadata": {},
   "outputs": [
    {
     "name": "stdout",
     "output_type": "stream",
     "text": [
      "7\n"
     ]
    }
   ],
   "source": [
    "# Remove Duplicates from Sorted Array\n",
    "\n",
    "def rem_dub(num):\n",
    "    l=1\n",
    "    \n",
    "    for r in range(1,len(num)):\n",
    "        if num[r] != num[r - 1]:\n",
    "            num[l] = num[r]\n",
    "            l +=1\n",
    "    return l\n",
    "\n",
    "num = [1,1,2,2,2,3,4,4,4,5,6,6,6,6,7]\n",
    "print(rem_dub(num))\n",
    "        \n",
    "    "
   ]
  },
  {
   "cell_type": "code",
   "execution_count": 83,
   "id": "233d77cb",
   "metadata": {},
   "outputs": [
    {
     "name": "stdout",
     "output_type": "stream",
     "text": [
      "[4, 5, 1, 2, 3]\n"
     ]
    }
   ],
   "source": [
    "# Rotate an array to the right by k steps.\n",
    "\n",
    "def rotate(nums,k):\n",
    "    n = len(nums)\n",
    "    k = k%n\n",
    "    nums[:] = nums[-k:] + nums[:-k]\n",
    "\n",
    "nums = [1,2,3,4,5]\n",
    "k = 2\n",
    "rotate(nums,k)\n",
    "print(nums)"
   ]
  },
  {
   "cell_type": "code",
   "execution_count": 80,
   "id": "a9f68fb7",
   "metadata": {},
   "outputs": [
    {
     "name": "stdout",
     "output_type": "stream",
     "text": [
      "[1, 2, 3, 4, 5]\n",
      "[4, 5, 1, 2, 3]\n"
     ]
    }
   ],
   "source": [
    "num = [1,2,3,4,5]\n",
    "k = 2\n",
    "print(num[:])\n",
    "print ((num[-k:]) + (num[:-k]))"
   ]
  },
  {
   "cell_type": "code",
   "execution_count": 88,
   "id": "90c1efbf",
   "metadata": {},
   "outputs": [
    {
     "data": {
      "text/plain": [
       "-1"
      ]
     },
     "execution_count": 88,
     "metadata": {},
     "output_type": "execute_result"
    }
   ],
   "source": [
    "# ind the Index of the First Occurrence in a String\n",
    "# Given two strings needle and haystack, return the index of the first occurrence of needle in haystack,\"\"\n",
    "#   \"or -1 if needle is not part of haystack.\n",
    "\n",
    "def strstr(haystack, needle):\n",
    "    for i in range(len(haystack) - len(needle)+1):\n",
    "        if haystack[i: i+len(needle)] == needle:\n",
    "            return 1\n",
    "        return -1\n",
    "    \n",
    "    \n",
    "haystack = \"sadbutsad\"\n",
    "needle = \"saad\"\n",
    "strstr(haystack, needle)"
   ]
  },
  {
   "cell_type": "code",
   "execution_count": 92,
   "id": "8e1f6e50",
   "metadata": {},
   "outputs": [
    {
     "name": "stdout",
     "output_type": "stream",
     "text": [
      "[6]\n"
     ]
    }
   ],
   "source": [
    "# Write a function that returns the intersection of two sorted arrays. Assume each array does not have duplicates.\n",
    "def Intersec(num1,num2):\n",
    "    result = []\n",
    "    for i in num1:\n",
    "        if(i in num2 and i not in result):\n",
    "            result.append(i)\n",
    "    return result\n",
    "\n",
    "num1= [1,2,3,4,5,6]\n",
    "num2 =[6,9]\n",
    "print(Intersec(num1,num2))\n"
   ]
  },
  {
   "cell_type": "code",
   "execution_count": 96,
   "id": "083140e4",
   "metadata": {},
   "outputs": [
    {
     "name": "stdout",
     "output_type": "stream",
     "text": [
      "[5]\n"
     ]
    }
   ],
   "source": [
    "def Intersec(num1,num2):\n",
    "    set1 = set(num1)\n",
    "    set2 = set(num2)\n",
    "    return list(set1 & set2)\n",
    "\n",
    "num1= [1,2,3,4,5,6]\n",
    "num2 =[5,9]\n",
    "print(Intersec(num1,num2))\n"
   ]
  },
  {
   "cell_type": "code",
   "execution_count": 101,
   "id": "4f02947f",
   "metadata": {},
   "outputs": [
    {
     "name": "stdout",
     "output_type": "stream",
     "text": [
      "flo\n"
     ]
    }
   ],
   "source": [
    "#  Write a function to find the longest common prefix of a list of strings.\n",
    "def longest_common_prefix(string):\n",
    "    prefix = ''\n",
    "    for i in string:\n",
    "        if(len(i)<len(prefix) or prefix== ''):\n",
    "            prefix = i\n",
    "    need = len(string)\n",
    "    count = 0\n",
    "    result = ''\n",
    "    while(need != count):\n",
    "        count = 0\n",
    "        for i in string:\n",
    "            if (prefix == i[:len(prefix)]):\n",
    "                count +=1\n",
    "        result = prefix\n",
    "        prefix = prefix[:-1]\n",
    "        \n",
    "    if(need == count):\n",
    "        return result\n",
    "    else:\n",
    "        return ' '\n",
    "    \n",
    "strings = [\"flower\", \"flow\", \"floight\"]\n",
    "print(longest_common_prefix(strings))\n",
    "        \n",
    "    "
   ]
  },
  {
   "cell_type": "code",
   "execution_count": 111,
   "id": "1a69b517",
   "metadata": {},
   "outputs": [
    {
     "name": "stdout",
     "output_type": "stream",
     "text": [
      "False\n"
     ]
    }
   ],
   "source": [
    "# Question: Write a function to determine if two strings are one edit (or zero edits) away.\n",
    "\n",
    "def One_edit_away(s1,s2):\n",
    "    if abs(len(s1) - len(s2))>1 :\n",
    "        return False\n",
    "    \n",
    "    if len(s1)>len(s2):\n",
    "        s1,s2=s2,s1\n",
    "    \n",
    "    i,j,found_diff = 0,0,False\n",
    "    \n",
    "    while i < len(s1) and j < len(s2):\n",
    "        if s1[i] != s2[j]:\n",
    "            if found_diff:\n",
    "                return False\n",
    "            found_diff = True\n",
    "            \n",
    "            if len(s1) == len(s2):\n",
    "                i += 1\n",
    "                \n",
    "        else:\n",
    "            i +=1\n",
    "                \n",
    "        j += 1\n",
    "    return True\n",
    "    \n",
    "print(One_edit_away(\"pale\",\"bales\"))"
   ]
  },
  {
   "cell_type": "code",
   "execution_count": 114,
   "id": "25ffe528",
   "metadata": {},
   "outputs": [
    {
     "name": "stdout",
     "output_type": "stream",
     "text": [
      "13\n"
     ]
    }
   ],
   "source": [
    "# Write a function that returns the nth number in the Fibonacci sequence using recursion.\n",
    "\n",
    "def fibonaci_recursive(n):\n",
    "    if n<=1:\n",
    "        return n\n",
    "    else:\n",
    "        return fibonaci_recursive(n-1) + fibonaci_recursive(n-2)\n",
    "    \n",
    "print(fibonaci_recursive(7))"
   ]
  },
  {
   "cell_type": "code",
   "execution_count": 116,
   "id": "944d04fe",
   "metadata": {},
   "outputs": [
    {
     "name": "stdout",
     "output_type": "stream",
     "text": [
      "[1, 2, 3, 4, 5, 6, 7, 8, 9]\n"
     ]
    }
   ],
   "source": [
    "# Write a function to flatten a nested list of integers.\n",
    "def flatten(nested_list):\n",
    "    flat_list = []\n",
    "    for item in nested_list:\n",
    "        if isinstance(item,list):\n",
    "            flat_list.extend(flatten(item))\n",
    "        else:\n",
    "            flat_list.append(item)\n",
    "    return flat_list\n",
    "\n",
    "nested = [1, [2, 3, [4, 5], 6], 7, [8, 9]]\n",
    "print(flatten(nested))"
   ]
  },
  {
   "cell_type": "code",
   "execution_count": 119,
   "id": "f91b1d27",
   "metadata": {},
   "outputs": [
    {
     "name": "stdout",
     "output_type": "stream",
     "text": [
      "g-fe#ef$g\n"
     ]
    }
   ],
   "source": [
    "# Write a function that reverses a string, but maintains the position of all non-alphabetic characters.\n",
    "\n",
    "def reverse_alphabet_only(s):\n",
    "    s=list(s)\n",
    "    l,r=0,len(s)-1\n",
    "    \n",
    "    while l<r:\n",
    "        if not s[l].isalpha() and l<r:\n",
    "            l +=1\n",
    "        if not s[r].isalpha() and l<r:\n",
    "            r -=1\n",
    "        s[l]=s[r]\n",
    "        l +=1\n",
    "        r -=1\n",
    "    return \"\".join(s)\n",
    "\n",
    "string = \"b-cd#ef$g\"\n",
    "print(reverse_alphabet_only(string))"
   ]
  },
  {
   "cell_type": "code",
   "execution_count": 128,
   "id": "e49e8fb1",
   "metadata": {},
   "outputs": [
    {
     "name": "stdout",
     "output_type": "stream",
     "text": [
      "11 13 17 19 23 29 None\n"
     ]
    }
   ],
   "source": [
    "# Write a function to find all the prime numbers less than a given number n\n",
    "\n",
    "def prime_no(start,end):\n",
    "    \n",
    "    for i in range(start,end+1):\n",
    "        flag =0\n",
    "        for j in range(2,i):\n",
    "            if (i%j == 0):\n",
    "                flag = 1\n",
    "                break\n",
    "        if (flag == 0):\n",
    "            print(i,end = ' ')\n",
    "            \n",
    "print(prime_no(10,30))"
   ]
  },
  {
   "cell_type": "code",
   "execution_count": 133,
   "id": "8062f8d9",
   "metadata": {},
   "outputs": [
    {
     "name": "stdout",
     "output_type": "stream",
     "text": [
      "24\n"
     ]
    }
   ],
   "source": [
    "# Write a function to compute the factorial of a number using iteration.\n",
    "\n",
    "def check_factorial(n):\n",
    "    result =1\n",
    "    for i in range(1,n+1):\n",
    "        result = result * i\n",
    "    return result\n",
    "\n",
    "print(check_factorial(4))"
   ]
  },
  {
   "cell_type": "code",
   "execution_count": 137,
   "id": "32c19c94",
   "metadata": {},
   "outputs": [
    {
     "name": "stdout",
     "output_type": "stream",
     "text": [
      "True\n"
     ]
    }
   ],
   "source": [
    "# Write a function that checks if a given word is an isogram (a word with no repeating letters).\n",
    "\n",
    "def check_isogram(string):\n",
    "    string = string.lower()\n",
    "    return len(string) == len(set(string))\n",
    "\n",
    "print(check_isogram(\"helvsfdo\"))"
   ]
  },
  {
   "cell_type": "code",
   "execution_count": 141,
   "id": "cc1ff70b",
   "metadata": {},
   "outputs": [],
   "source": [
    "class Atm():\n",
    "    \n",
    "    def __init__(self):\n",
    "        self.pin = ''\n",
    "        self.balance = 0\n",
    "        self.menu()\n",
    "        \n",
    "    def menu(self):\n",
    "        user_input = input(\"\"\"\n",
    "        how can I help\n",
    "        1. press 1 create pin\n",
    "        2. press 2 change pin\n",
    "        \"\"\")\n",
    "        \n",
    "        if user_input == \"1\":\n",
    "            self.create_pin()\n",
    "        elif user_input == \"2\":\n",
    "            self.change_pin()\n",
    "        else:\n",
    "            exit()\n",
    "        \n",
    "    def create_pin(self):\n",
    "        user_pin = input(\"enter the pin\")\n",
    "        self.pin = user_pin\n",
    "        \n",
    "        user_balance = input('enter the balance')\n",
    "        self.balance = user_balance\n",
    "        \n",
    "        print(\"pin created succesfully\")\n",
    "        self.menu()\n",
    "        \n",
    "    def change_pin(self):\n",
    "        old_pin = input(\"enter the old pin\")\n",
    "        \n",
    "        if old_pin == self.pin:\n",
    "            # let him change the pin\n",
    "            new_pin = input(\"enter the new pin\")\n",
    "            self.pin = new_pin\n",
    "            print(\"pin change successful\")\n",
    "            self.menu()"
   ]
  },
  {
   "cell_type": "code",
   "execution_count": 142,
   "id": "ab76da9d",
   "metadata": {},
   "outputs": [
    {
     "name": "stdout",
     "output_type": "stream",
     "text": [
      "\n",
      "        how can I help\n",
      "        1. press 1 create pin\n",
      "        2. press 2 change pin\n",
      "        1\n",
      "enter the pin1234\n",
      "enter the balance1000\n",
      "pin created succesfully\n",
      "\n",
      "        how can I help\n",
      "        1. press 1 create pin\n",
      "        2. press 2 change pin\n",
      "        2\n",
      "enter the old pin1234\n",
      "enter the new pin1212\n",
      "pin change successful\n",
      "\n",
      "        how can I help\n",
      "        1. press 1 create pin\n",
      "        2. press 2 change pin\n",
      "        3\n"
     ]
    }
   ],
   "source": [
    "obj = Atm()"
   ]
  },
  {
   "cell_type": "code",
   "execution_count": 2,
   "id": "63c3fbb5",
   "metadata": {},
   "outputs": [],
   "source": [
    "# constructor is a special class method for creating and initilazing an object instance of that class"
   ]
  },
  {
   "cell_type": "code",
   "execution_count": 8,
   "id": "37ef17e0",
   "metadata": {},
   "outputs": [
    {
     "name": "stdout",
     "output_type": "stream",
     "text": [
      "False\n"
     ]
    }
   ],
   "source": [
    "#  Write a function that detects a cycle in a linked list\n",
    "\n",
    "class Node:\n",
    "    def __init__(self, value=0, next=None):\n",
    "        self.value = value\n",
    "        self.next = next\n",
    "\n",
    "    def has_cycle(head):\n",
    "\n",
    "        slow,fast = head,head\n",
    "\n",
    "        while(fast != None and slow != None and fast.next !=None):\n",
    "            slow = slow.next\n",
    "            fast = fast.next.next\n",
    "            if(slow == fast):\n",
    "                return True\n",
    "        return False\n",
    "\n",
    "head = Node('a')\n",
    "nodeB = Node('b')\n",
    "nodeC = Node('c')\n",
    "nodeD = Node('d')\n",
    "nodeE = Node('e')\n",
    "nodeF = Node('f')\n",
    "nodeG = Node('g')\n",
    "nodeH = Node('h')\n",
    "nodeI = Node('i')\n",
    "nodeJ = Node('j')\n",
    "\n",
    "head.next = nodeB\n",
    "nodeB.next = nodeC\n",
    "nodeC.next = nodeD\n",
    "nodeD.next = nodeE\n",
    "nodeE.next = nodeF\n",
    "nodeF.next = nodeG\n",
    "nodeG.next = nodeH\n",
    "nodeH.next = nodeI\n",
    "nodeI.next = nodeJ\n",
    "#nodeJ.next = nodeD\n",
    "\n",
    "print(has_cycle(head))\n",
    "\n",
    "        \n"
   ]
  },
  {
   "cell_type": "code",
   "execution_count": 14,
   "id": "2bc167c3",
   "metadata": {},
   "outputs": [
    {
     "ename": "NameError",
     "evalue": "name 'A' is not defined",
     "output_type": "error",
     "traceback": [
      "\u001b[1;31m---------------------------------------------------------------------------\u001b[0m",
      "\u001b[1;31mNameError\u001b[0m                                 Traceback (most recent call last)",
      "Cell \u001b[1;32mIn[14], line 23\u001b[0m\n\u001b[0;32m     13\u001b[0m     \u001b[38;5;28;01mreturn\u001b[39;00m ptrA\n\u001b[0;32m     16\u001b[0m \u001b[38;5;66;03m# Assuming ListNode class definition from the previous question\u001b[39;00m\n\u001b[0;32m     17\u001b[0m \u001b[38;5;66;03m# Example Usage:\u001b[39;00m\n\u001b[0;32m     18\u001b[0m \u001b[38;5;66;03m# A: 1 -> 2 -> 3 -> 4\u001b[39;00m\n\u001b[1;32m   (...)\u001b[0m\n\u001b[0;32m     21\u001b[0m \u001b[38;5;66;03m#                  ↗            \u001b[39;00m\n\u001b[0;32m     22\u001b[0m \u001b[38;5;66;03m# B:       8 -> 9\u001b[39;00m\n\u001b[1;32m---> 23\u001b[0m \u001b[38;5;28mprint\u001b[39m(get_intersection_node(\u001b[43mA\u001b[49m, B)\u001b[38;5;241m.\u001b[39mvalue)\n",
      "\u001b[1;31mNameError\u001b[0m: name 'A' is not defined"
     ]
    }
   ],
   "source": [
    "# Write a function that finds the intersection point of two linked lists.\n",
    "\n",
    "def has_intersection(headA,headB):\n",
    "    if not headA and not headB:\n",
    "        return None\n",
    "    \n",
    "    ptrA,ptrB = headA,headB\n",
    "    \n",
    "    while ptrA != ptrB:\n",
    "        ptrA = ptrA.next if ptrA else headB\n",
    "        ptrB =ptrB.next if ptrB else headA\n",
    "        \n",
    "    return ptrA\n",
    "    \n",
    "    \n",
    "# Assuming ListNode class definition from the previous question\n",
    "# Example Usage:\n",
    "# A: 1 -> 2 -> 3 -> 4\n",
    "#                  ↘\n",
    "#                   5 -> 6 -> 7\n",
    "#                  ↗            \n",
    "# B:       8 -> 9\n",
    "print(get_intersection_node(A, B).value)\n",
    "        "
   ]
  },
  {
   "cell_type": "code",
   "execution_count": 13,
   "id": "1479a0f3",
   "metadata": {},
   "outputs": [
    {
     "ename": "IndentationError",
     "evalue": "unindent does not match any outer indentation level (<tokenize>, line 15)",
     "output_type": "error",
     "traceback": [
      "\u001b[1;36m  File \u001b[1;32m<tokenize>:15\u001b[1;36m\u001b[0m\n\u001b[1;33m    A: 1 -> 2 -> 3 -> 4\u001b[0m\n\u001b[1;37m    ^\u001b[0m\n\u001b[1;31mIndentationError\u001b[0m\u001b[1;31m:\u001b[0m unindent does not match any outer indentation level\n"
     ]
    }
   ],
   "source": [
    "def get_intersection_node(headA, headB):\n",
    "    if not headA or not headB:\n",
    "        return None\n",
    "\n",
    "    ptrA, ptrB = headA, headB\n",
    "\n",
    "    while ptrA != ptrB:\n",
    "        ptrA = ptrA.next if ptrA else headB\n",
    "        ptrB = ptrB.next if ptrB else headA\n",
    "\n",
    "    return ptrA\n",
    "\n",
    "# Assuming ListNode class definition from the previous question\n",
    "# Example Usage:\n",
    " A: 1 -> 2 -> 3 -> 4\n",
    "#                  ↘\n",
    "#                   5 -> 6 -> 7\n",
    "#                  ↗            \n",
    " B:       8 -> 9\n",
    "print(get_intersection_node(A, B).value)  # Output: 5\n"
   ]
  },
  {
   "cell_type": "code",
   "execution_count": 22,
   "id": "ebc7cb61",
   "metadata": {},
   "outputs": [
    {
     "name": "stdout",
     "output_type": "stream",
     "text": [
      "[['eat', 'ate', 'tea'], ['ant', 'tan']]\n"
     ]
    }
   ],
   "source": [
    "# Given a list of words, group the anagrams together\n",
    "\n",
    "def group_anagrams(words):\n",
    "    anagrams = {}\n",
    "    \n",
    "    for word in words:\n",
    "        sorted_word = ''.join(sorted(word))\n",
    "        \n",
    "        if sorted_word in anagrams:\n",
    "            anagrams[sorted_word].append(word)\n",
    "            \n",
    "        else :\n",
    "            anagrams[sorted_word] = [word]\n",
    "    return list(anagrams.values())\n",
    "    \n",
    "words = [\"eat\", \"ate\", \"tea\", \"ant\", \"tan\"]\n",
    "print(group_anagrams(words))"
   ]
  },
  {
   "cell_type": "code",
   "execution_count": 21,
   "id": "624ce4a4",
   "metadata": {},
   "outputs": [
    {
     "name": "stdout",
     "output_type": "stream",
     "text": [
      "[['eat', 'tea'], ['tan', 'ant'], ['bat']]\n"
     ]
    }
   ],
   "source": [
    "from collections import defaultdict\n",
    "\n",
    "def group_anagrams(words):\n",
    "    anagrams = defaultdict(list)\n",
    "    for word in words:\n",
    "        # Use sorted word as a key. All anagrams will result in the same key.\n",
    "        sorted_word = ''.join(sorted(word))\n",
    "        anagrams[sorted_word].append(word)\n",
    "    return list(anagrams.values())\n",
    "\n",
    "words = [\"eat\",\"tea\",\"tan\",\"ant\",\"bat\"]\n",
    "print(group_anagrams(words))  # Output: [['eat', 'tea'], ['tan', 'ant'], ['bat']]\n"
   ]
  },
  {
   "cell_type": "code",
   "execution_count": 26,
   "id": "7de1225e",
   "metadata": {},
   "outputs": [
    {
     "name": "stdout",
     "output_type": "stream",
     "text": [
      "[1, 2]\n"
     ]
    }
   ],
   "source": [
    "# Given an array nums and a target value, find the two numbers in the array that sum up to the target value.\n",
    "\n",
    "def two_sum(nums,target):\n",
    "    dic = {}\n",
    "    \n",
    "    for i,num in enumerate(nums):\n",
    "        result = target - num\n",
    "        if result in dic:\n",
    "            return [dic[result],i]\n",
    "        dic[num] = i\n",
    "        \n",
    "    \n",
    "nums=[2,2,7,11,15]\n",
    "target = 9\n",
    "print(two_sum(nums,target))"
   ]
  },
  {
   "cell_type": "code",
   "execution_count": 32,
   "id": "8767e0a4",
   "metadata": {},
   "outputs": [
    {
     "name": "stdout",
     "output_type": "stream",
     "text": [
      "baab\n"
     ]
    }
   ],
   "source": [
    "# Find the longest palindromic substring in a string.\n",
    "\n",
    "def longest_palindrome(s):\n",
    "    res = \"\"\n",
    "    reslen = 0\n",
    "    \n",
    "    for i in range(len(s)):\n",
    "        #odd result\n",
    "        l,r =i,i\n",
    "        while l>=0 and r<len(s) and s[l]==s[r]:\n",
    "            if(r - l +1) > reslen:\n",
    "                reslen = r - l + 1\n",
    "                res = s[l:r+1]\n",
    "            l -= 1\n",
    "            r += 1\n",
    "            \n",
    "        \n",
    "        # even len\n",
    "        l,r =i,i+1\n",
    "        while l>=0 and r<len(s) and s[l]==s[r]:\n",
    "            if(r - l +1) > reslen:\n",
    "                reslen = r - l + 1\n",
    "                res = s[l:r+1]\n",
    "            l -= 1\n",
    "            r += 1\n",
    "            \n",
    "    return res\n",
    "        \n",
    "        \n",
    "        \n",
    "string = \"baab\"\n",
    "print(longest_palindrome(string))"
   ]
  },
  {
   "cell_type": "code",
   "execution_count": 35,
   "id": "8a569ba5",
   "metadata": {},
   "outputs": [
    {
     "name": "stdout",
     "output_type": "stream",
     "text": [
      "6\n"
     ]
    }
   ],
   "source": [
    "# Find the kth largest element in an unsorted array\n",
    "\n",
    "import heapq\n",
    "\n",
    "def find_k_largest(array, k):\n",
    "    return heapq.nlargest(k, array)[-1]\n",
    "    \n",
    "    \n",
    "nums = [3, 2, 1, 5, 6, 4,8]\n",
    "k = 2\n",
    "print(find_k_largest(nums, k)) "
   ]
  },
  {
   "cell_type": "code",
   "execution_count": 37,
   "id": "cee6e186",
   "metadata": {},
   "outputs": [
    {
     "name": "stdout",
     "output_type": "stream",
     "text": [
      "8\n",
      "0.25\n"
     ]
    }
   ],
   "source": [
    "# Write a function that computes the power of a number without using the built-in power function or the ** operator.\n",
    "\n",
    "def power(base,exp):\n",
    "    if exp == 0:\n",
    "        return 1\n",
    "    if exp < 0:\n",
    "        base = 1/base\n",
    "        exp = -exp\n",
    "        \n",
    "    result = 1\n",
    "    curr_base = base\n",
    "    \n",
    "    while exp >0:\n",
    "        if exp % 2==1:\n",
    "            result = result * curr_base\n",
    "        curr_base = curr_base * curr_base\n",
    "        exp //= 2\n",
    "        \n",
    "    return result\n",
    "    \n",
    "print(power(2,3))\n",
    "print(power(2,-2))"
   ]
  },
  {
   "cell_type": "code",
   "execution_count": 38,
   "id": "15f861cc",
   "metadata": {},
   "outputs": [
    {
     "name": "stdout",
     "output_type": "stream",
     "text": [
      "True\n",
      "True\n",
      "False\n",
      "False\n"
     ]
    }
   ],
   "source": [
    "# Write a function to validate if a given string contains only balanced parentheses.\n",
    " \n",
    "def is_balanced(exp):\n",
    "    stack = []\n",
    "    \n",
    "    for char in exp:\n",
    "        if char == '(':\n",
    "            stack.append(char)\n",
    "        elif char == ')':\n",
    "            if not stack:\n",
    "                return False\n",
    "            stack.pop()\n",
    "    return len(stack) == 0\n",
    "\n",
    "print(is_balanced(\"(())\"))       # Output: True\n",
    "print(is_balanced(\"()()\"))       # Output: True\n",
    "print(is_balanced(\"(()\"))        # Output: False\n",
    "print(is_balanced(\")(\"))         # Output: False\n",
    "\n",
    "            \n"
   ]
  },
  {
   "cell_type": "code",
   "execution_count": null,
   "id": "b079af74",
   "metadata": {},
   "outputs": [],
   "source": [
    "# Write a function that returns the longest substring without repeating characters."
   ]
  },
  {
   "cell_type": "code",
   "execution_count": 50,
   "id": "0228522f",
   "metadata": {},
   "outputs": [
    {
     "name": "stdout",
     "output_type": "stream",
     "text": [
      "4\n"
     ]
    }
   ],
   "source": [
    "# Question: Implement a basic calculator to evaluate a simple expression string containing non-negative integers, '+', '-', '*', and '/' operators. You can assume the given expression is always valid.\n",
    "\n",
    "def calculate(s):\n",
    "    if not s:\n",
    "        return 0\n",
    "\n",
    "    stack, num, sign = [], 0, \"+\"\n",
    "    for i in range(len(s)):\n",
    "        if s[i].isdigit():\n",
    "            num = num * 10 + int(s[i])\n",
    "        if s[i] in \"+-*/\" or i == len(s) - 1:\n",
    "            if sign == \"+\":\n",
    "                stack.append(num)\n",
    "            elif sign == \"-\":\n",
    "                stack.append(-num)\n",
    "            elif sign == \"*\":\n",
    "                stack.append(stack.pop() * num)\n",
    "            else:  # division\n",
    "                top = stack.pop()\n",
    "                if top < 0:\n",
    "                    stack.append(-(-top // num))\n",
    "                else:\n",
    "                    stack.append(top // num)\n",
    "            num = 0\n",
    "            sign = s[i]\n",
    "    return sum(stack)\n",
    "\n",
    "expression = \"3-2*2+10/2\"\n",
    "print(calculate(expression))  # Output: 7\n"
   ]
  },
  {
   "cell_type": "code",
   "execution_count": null,
   "id": "65f00772",
   "metadata": {},
   "outputs": [],
   "source": []
  }
 ],
 "metadata": {
  "kernelspec": {
   "display_name": "Python 3 (ipykernel)",
   "language": "python",
   "name": "python3"
  },
  "language_info": {
   "codemirror_mode": {
    "name": "ipython",
    "version": 3
   },
   "file_extension": ".py",
   "mimetype": "text/x-python",
   "name": "python",
   "nbconvert_exporter": "python",
   "pygments_lexer": "ipython3",
   "version": "3.10.9"
  }
 },
 "nbformat": 4,
 "nbformat_minor": 5
}
